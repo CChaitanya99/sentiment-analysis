{
 "cells": [
  {
   "cell_type": "markdown",
   "metadata": {},
   "source": [
    "\n"
   ]
  },
  {
   "cell_type": "markdown",
   "metadata": {},
   "source": [
    "\n",
    "This is the sentiment dataset.\n",
    "It contains 1,600,000 tweets extracted using the twitter api . The tweets have been annotated (0 = negative, 2 = neutral, 4 = positive) and they can be used to detect sentiment .\n",
    "It contains the following 6 fields:\n",
    "\n",
    "target: the polarity of the tweet (0 = negative, 2 = neutral, 4 = positive)\n",
    "ids: The id of the tweet ( 2087)\n",
    "date: the date of the tweet (Sat May 16 23:58:44 UTC 2009)\n",
    "flag: The query (lyx). If there is no query, then this value is NO_QUERY.\n",
    "user: the user that tweeted (robotickilldozr)\n",
    "text: the text of the tweet (Lyx is cool)"
   ]
  },
  {
   "cell_type": "code",
   "execution_count": 12,
   "metadata": {},
   "outputs": [
    {
     "data": {
      "text/plain": [
       "'/Users/chaitanyabhardwaj/sentiment analysis'"
      ]
     },
     "execution_count": 12,
     "metadata": {},
     "output_type": "execute_result"
    }
   ],
   "source": [
    "import os \n",
    "os.getcwd()"
   ]
  },
  {
   "cell_type": "code",
   "execution_count": 1,
   "metadata": {},
   "outputs": [],
   "source": [
    "import pandas as pd\n",
    "import numpy as np\n",
    "import matplotlib.pyplot as plt"
   ]
  },
  {
   "cell_type": "code",
   "execution_count": 2,
   "metadata": {},
   "outputs": [
    {
     "data": {
      "text/html": [
       "<div>\n",
       "<style scoped>\n",
       "    .dataframe tbody tr th:only-of-type {\n",
       "        vertical-align: middle;\n",
       "    }\n",
       "\n",
       "    .dataframe tbody tr th {\n",
       "        vertical-align: top;\n",
       "    }\n",
       "\n",
       "    .dataframe thead th {\n",
       "        text-align: right;\n",
       "    }\n",
       "</style>\n",
       "<table border=\"1\" class=\"dataframe\">\n",
       "  <thead>\n",
       "    <tr style=\"text-align: right;\">\n",
       "      <th></th>\n",
       "      <th>target</th>\n",
       "      <th>id</th>\n",
       "      <th>date</th>\n",
       "      <th>flag</th>\n",
       "      <th>user</th>\n",
       "      <th>text</th>\n",
       "    </tr>\n",
       "  </thead>\n",
       "  <tbody>\n",
       "    <tr>\n",
       "      <th>0</th>\n",
       "      <td>0</td>\n",
       "      <td>1467810369</td>\n",
       "      <td>Mon Apr 06 22:19:45 PDT 2009</td>\n",
       "      <td>NO_QUERY</td>\n",
       "      <td>_TheSpecialOne_</td>\n",
       "      <td>@switchfoot http://twitpic.com/2y1zl - Awww, t...</td>\n",
       "    </tr>\n",
       "    <tr>\n",
       "      <th>1</th>\n",
       "      <td>0</td>\n",
       "      <td>1467810672</td>\n",
       "      <td>Mon Apr 06 22:19:49 PDT 2009</td>\n",
       "      <td>NO_QUERY</td>\n",
       "      <td>scotthamilton</td>\n",
       "      <td>is upset that he can't update his Facebook by ...</td>\n",
       "    </tr>\n",
       "    <tr>\n",
       "      <th>2</th>\n",
       "      <td>0</td>\n",
       "      <td>1467810917</td>\n",
       "      <td>Mon Apr 06 22:19:53 PDT 2009</td>\n",
       "      <td>NO_QUERY</td>\n",
       "      <td>mattycus</td>\n",
       "      <td>@Kenichan I dived many times for the ball. Man...</td>\n",
       "    </tr>\n",
       "    <tr>\n",
       "      <th>3</th>\n",
       "      <td>0</td>\n",
       "      <td>1467811184</td>\n",
       "      <td>Mon Apr 06 22:19:57 PDT 2009</td>\n",
       "      <td>NO_QUERY</td>\n",
       "      <td>ElleCTF</td>\n",
       "      <td>my whole body feels itchy and like its on fire</td>\n",
       "    </tr>\n",
       "    <tr>\n",
       "      <th>4</th>\n",
       "      <td>0</td>\n",
       "      <td>1467811193</td>\n",
       "      <td>Mon Apr 06 22:19:57 PDT 2009</td>\n",
       "      <td>NO_QUERY</td>\n",
       "      <td>Karoli</td>\n",
       "      <td>@nationwideclass no, it's not behaving at all....</td>\n",
       "    </tr>\n",
       "  </tbody>\n",
       "</table>\n",
       "</div>"
      ],
      "text/plain": [
       "   target          id                          date      flag  \\\n",
       "0       0  1467810369  Mon Apr 06 22:19:45 PDT 2009  NO_QUERY   \n",
       "1       0  1467810672  Mon Apr 06 22:19:49 PDT 2009  NO_QUERY   \n",
       "2       0  1467810917  Mon Apr 06 22:19:53 PDT 2009  NO_QUERY   \n",
       "3       0  1467811184  Mon Apr 06 22:19:57 PDT 2009  NO_QUERY   \n",
       "4       0  1467811193  Mon Apr 06 22:19:57 PDT 2009  NO_QUERY   \n",
       "\n",
       "              user                                               text  \n",
       "0  _TheSpecialOne_  @switchfoot http://twitpic.com/2y1zl - Awww, t...  \n",
       "1    scotthamilton  is upset that he can't update his Facebook by ...  \n",
       "2         mattycus  @Kenichan I dived many times for the ball. Man...  \n",
       "3          ElleCTF    my whole body feels itchy and like its on fire   \n",
       "4           Karoli  @nationwideclass no, it's not behaving at all....  "
      ]
     },
     "execution_count": 2,
     "metadata": {},
     "output_type": "execute_result"
    }
   ],
   "source": [
    "col_names=[\"target\", \"id\", \"date\", \"flag\", \"user\", \"text\"]\n",
    "data_first_50k= pd.read_csv(\"training.1600000.processed (1).csv\", header=None, encoding='ISO-8859-1', names=col_names, nrows=50000)\n",
    "data_first_50k.head()"
   ]
  },
  {
   "cell_type": "code",
   "execution_count": 3,
   "metadata": {},
   "outputs": [
    {
     "data": {
      "text/html": [
       "<div>\n",
       "<style scoped>\n",
       "    .dataframe tbody tr th:only-of-type {\n",
       "        vertical-align: middle;\n",
       "    }\n",
       "\n",
       "    .dataframe tbody tr th {\n",
       "        vertical-align: top;\n",
       "    }\n",
       "\n",
       "    .dataframe thead th {\n",
       "        text-align: right;\n",
       "    }\n",
       "</style>\n",
       "<table border=\"1\" class=\"dataframe\">\n",
       "  <thead>\n",
       "    <tr style=\"text-align: right;\">\n",
       "      <th></th>\n",
       "      <th>target</th>\n",
       "      <th>id</th>\n",
       "      <th>date</th>\n",
       "      <th>flag</th>\n",
       "      <th>user</th>\n",
       "      <th>text</th>\n",
       "    </tr>\n",
       "  </thead>\n",
       "  <tbody>\n",
       "    <tr>\n",
       "      <th>0</th>\n",
       "      <td>4</td>\n",
       "      <td>2183672808</td>\n",
       "      <td>Mon Jun 15 14:49:44 PDT 2009</td>\n",
       "      <td>NO_QUERY</td>\n",
       "      <td>tweeteradder31</td>\n",
       "      <td>@clg_cnd Get 100 followers a day using www.twe...</td>\n",
       "    </tr>\n",
       "    <tr>\n",
       "      <th>1</th>\n",
       "      <td>4</td>\n",
       "      <td>2183672820</td>\n",
       "      <td>Mon Jun 15 14:49:44 PDT 2009</td>\n",
       "      <td>NO_QUERY</td>\n",
       "      <td>ryanculling</td>\n",
       "      <td>Home from work. Start again at 8am.  Epic.</td>\n",
       "    </tr>\n",
       "    <tr>\n",
       "      <th>2</th>\n",
       "      <td>4</td>\n",
       "      <td>2183672843</td>\n",
       "      <td>Mon Jun 15 14:49:44 PDT 2009</td>\n",
       "      <td>NO_QUERY</td>\n",
       "      <td>D_Roya</td>\n",
       "      <td>@robdyrdek that record was funny as hell</td>\n",
       "    </tr>\n",
       "    <tr>\n",
       "      <th>3</th>\n",
       "      <td>4</td>\n",
       "      <td>2183672871</td>\n",
       "      <td>Mon Jun 15 14:49:44 PDT 2009</td>\n",
       "      <td>NO_QUERY</td>\n",
       "      <td>Rawryn</td>\n",
       "      <td>FINDING NEMO!!!! HELL YEAH  text me: 480.299.6988</td>\n",
       "    </tr>\n",
       "    <tr>\n",
       "      <th>4</th>\n",
       "      <td>4</td>\n",
       "      <td>2183672874</td>\n",
       "      <td>Mon Jun 15 14:49:44 PDT 2009</td>\n",
       "      <td>NO_QUERY</td>\n",
       "      <td>MaternalSpark</td>\n",
       "      <td>@glassidentities Yay! she's on twitter too..fo...</td>\n",
       "    </tr>\n",
       "  </tbody>\n",
       "</table>\n",
       "</div>"
      ],
      "text/plain": [
       "   target          id                          date      flag            user  \\\n",
       "0       4  2183672808  Mon Jun 15 14:49:44 PDT 2009  NO_QUERY  tweeteradder31   \n",
       "1       4  2183672820  Mon Jun 15 14:49:44 PDT 2009  NO_QUERY     ryanculling   \n",
       "2       4  2183672843  Mon Jun 15 14:49:44 PDT 2009  NO_QUERY          D_Roya   \n",
       "3       4  2183672871  Mon Jun 15 14:49:44 PDT 2009  NO_QUERY          Rawryn   \n",
       "4       4  2183672874  Mon Jun 15 14:49:44 PDT 2009  NO_QUERY   MaternalSpark   \n",
       "\n",
       "                                                text  \n",
       "0  @clg_cnd Get 100 followers a day using www.twe...  \n",
       "1         Home from work. Start again at 8am.  Epic.  \n",
       "2          @robdyrdek that record was funny as hell   \n",
       "3  FINDING NEMO!!!! HELL YEAH  text me: 480.299.6988  \n",
       "4  @glassidentities Yay! she's on twitter too..fo...  "
      ]
     },
     "execution_count": 3,
     "metadata": {},
     "output_type": "execute_result"
    }
   ],
   "source": [
    "col_names=[\"target\", \"id\", \"date\", \"flag\", \"user\", \"text\"]\n",
    "data_last_50k=pd.read_csv(\"training.1600000.processed (1).csv\", header=None, encoding='ISO-8859-1', names=col_names, skiprows=1550000)\n",
    "data_last_50k.head(5)"
   ]
  },
  {
   "cell_type": "code",
   "execution_count": 4,
   "metadata": {},
   "outputs": [
    {
     "data": {
      "text/plain": [
       "(0    50000\n",
       " Name: target, dtype: int64,\n",
       " 4    50000\n",
       " Name: target, dtype: int64)"
      ]
     },
     "execution_count": 4,
     "metadata": {},
     "output_type": "execute_result"
    }
   ],
   "source": [
    "data_first_50k['target'].value_counts(), data_last_50k['target'].value_counts()"
   ]
  },
  {
   "cell_type": "code",
   "execution_count": 6,
   "metadata": {},
   "outputs": [
    {
     "data": {
      "text/html": [
       "<div>\n",
       "<style scoped>\n",
       "    .dataframe tbody tr th:only-of-type {\n",
       "        vertical-align: middle;\n",
       "    }\n",
       "\n",
       "    .dataframe tbody tr th {\n",
       "        vertical-align: top;\n",
       "    }\n",
       "\n",
       "    .dataframe thead th {\n",
       "        text-align: right;\n",
       "    }\n",
       "</style>\n",
       "<table border=\"1\" class=\"dataframe\">\n",
       "  <thead>\n",
       "    <tr style=\"text-align: right;\">\n",
       "      <th></th>\n",
       "      <th>target</th>\n",
       "      <th>id</th>\n",
       "      <th>date</th>\n",
       "      <th>flag</th>\n",
       "      <th>user</th>\n",
       "      <th>text</th>\n",
       "    </tr>\n",
       "  </thead>\n",
       "  <tbody>\n",
       "    <tr>\n",
       "      <th>0</th>\n",
       "      <td>0</td>\n",
       "      <td>1467810369</td>\n",
       "      <td>Mon Apr 06 22:19:45 PDT 2009</td>\n",
       "      <td>NO_QUERY</td>\n",
       "      <td>_TheSpecialOne_</td>\n",
       "      <td>@switchfoot http://twitpic.com/2y1zl - Awww, t...</td>\n",
       "    </tr>\n",
       "    <tr>\n",
       "      <th>1</th>\n",
       "      <td>0</td>\n",
       "      <td>1467810672</td>\n",
       "      <td>Mon Apr 06 22:19:49 PDT 2009</td>\n",
       "      <td>NO_QUERY</td>\n",
       "      <td>scotthamilton</td>\n",
       "      <td>is upset that he can't update his Facebook by ...</td>\n",
       "    </tr>\n",
       "    <tr>\n",
       "      <th>2</th>\n",
       "      <td>0</td>\n",
       "      <td>1467810917</td>\n",
       "      <td>Mon Apr 06 22:19:53 PDT 2009</td>\n",
       "      <td>NO_QUERY</td>\n",
       "      <td>mattycus</td>\n",
       "      <td>@Kenichan I dived many times for the ball. Man...</td>\n",
       "    </tr>\n",
       "    <tr>\n",
       "      <th>3</th>\n",
       "      <td>0</td>\n",
       "      <td>1467811184</td>\n",
       "      <td>Mon Apr 06 22:19:57 PDT 2009</td>\n",
       "      <td>NO_QUERY</td>\n",
       "      <td>ElleCTF</td>\n",
       "      <td>my whole body feels itchy and like its on fire</td>\n",
       "    </tr>\n",
       "    <tr>\n",
       "      <th>4</th>\n",
       "      <td>0</td>\n",
       "      <td>1467811193</td>\n",
       "      <td>Mon Apr 06 22:19:57 PDT 2009</td>\n",
       "      <td>NO_QUERY</td>\n",
       "      <td>Karoli</td>\n",
       "      <td>@nationwideclass no, it's not behaving at all....</td>\n",
       "    </tr>\n",
       "  </tbody>\n",
       "</table>\n",
       "</div>"
      ],
      "text/plain": [
       "   target          id                          date      flag  \\\n",
       "0       0  1467810369  Mon Apr 06 22:19:45 PDT 2009  NO_QUERY   \n",
       "1       0  1467810672  Mon Apr 06 22:19:49 PDT 2009  NO_QUERY   \n",
       "2       0  1467810917  Mon Apr 06 22:19:53 PDT 2009  NO_QUERY   \n",
       "3       0  1467811184  Mon Apr 06 22:19:57 PDT 2009  NO_QUERY   \n",
       "4       0  1467811193  Mon Apr 06 22:19:57 PDT 2009  NO_QUERY   \n",
       "\n",
       "              user                                               text  \n",
       "0  _TheSpecialOne_  @switchfoot http://twitpic.com/2y1zl - Awww, t...  \n",
       "1    scotthamilton  is upset that he can't update his Facebook by ...  \n",
       "2         mattycus  @Kenichan I dived many times for the ball. Man...  \n",
       "3          ElleCTF    my whole body feels itchy and like its on fire   \n",
       "4           Karoli  @nationwideclass no, it's not behaving at all....  "
      ]
     },
     "execution_count": 6,
     "metadata": {},
     "output_type": "execute_result"
    }
   ],
   "source": [
    "data=pd.concat([data_first_50k,data_last_50k],axis=0)\n",
    "data.shape\n",
    "data.head()"
   ]
  },
  {
   "cell_type": "code",
   "execution_count": 7,
   "metadata": {},
   "outputs": [],
   "source": [
    "data.reset_index(inplace=True)"
   ]
  },
  {
   "cell_type": "code",
   "execution_count": 8,
   "metadata": {},
   "outputs": [
    {
     "data": {
      "text/plain": [
       "(array([0, 1]), array([50000, 50000]))"
      ]
     },
     "execution_count": 8,
     "metadata": {},
     "output_type": "execute_result"
    }
   ],
   "source": [
    "import numpy as np\n",
    "from sklearn.preprocessing import LabelEncoder\n",
    "y=data['target']\n",
    "le=LabelEncoder()\n",
    "y=le.fit_transform(y)\n",
    "type(y)\n",
    "np.unique(y, return_counts=True)"
   ]
  },
  {
   "cell_type": "code",
   "execution_count": 9,
   "metadata": {},
   "outputs": [
    {
     "name": "stderr",
     "output_type": "stream",
     "text": [
      "[nltk_data] Downloading package stopwords to\n",
      "[nltk_data]     /Users/chaitanyabhardwaj/nltk_data...\n",
      "[nltk_data]   Unzipping corpora/stopwords.zip.\n",
      "[nltk_data] Downloading package wordnet to\n",
      "[nltk_data]     /Users/chaitanyabhardwaj/nltk_data...\n",
      "[nltk_data]   Unzipping corpora/wordnet.zip.\n"
     ]
    }
   ],
   "source": [
    "import string\n",
    "import re\n",
    "import nltk\n",
    "nltk.download('stopwords')\n",
    "nltk.download('wordnet')\n",
    "from nltk.corpus import stopwords\n",
    "from nltk.stem import WordNetLemmatizer\n",
    "from nltk.tokenize import TweetTokenizer"
   ]
  },
  {
   "cell_type": "code",
   "execution_count": 10,
   "metadata": {},
   "outputs": [],
   "source": [
    "lemma=WordNetLemmatizer()\n",
    "corpus=[]\n",
    "\n",
    "for i in range(0, len(data)):\n",
    "    tweet=re.sub(r'\\$\\w*', '', data['text'][i])\n",
    "    tweet=re.sub(r'^RT[\\s]+', '', tweet)\n",
    "    tweet=re.sub(r'https?:\\/\\/.*[\\r\\n]*', '', tweet)\n",
    "    tweet=re.sub(r'#', '', tweet)\n",
    "    tokenizer=TweetTokenizer(preserve_case=False, strip_handles=True, reduce_len=True)\n",
    "    tweet=tokenizer.tokenize(tweet)\n",
    "    \n",
    "    tweet=[lemma.lemmatize(word) for word in tweet if (word not in stopwords.words('english') and word not in string.punctuation)]\n",
    "    tweet=' '.join(tweet)\n",
    "    corpus.append(tweet)"
   ]
  },
  {
   "cell_type": "code",
   "execution_count": 11,
   "metadata": {},
   "outputs": [
    {
     "name": "stdout",
     "output_type": "stream",
     "text": [
      "Collecting wordcloud\n",
      "  Downloading wordcloud-1.8.1.tar.gz (220 kB)\n",
      "\u001b[K     |████████████████████████████████| 220 kB 1.6 MB/s eta 0:00:01\n",
      "\u001b[?25hRequirement already satisfied: numpy>=1.6.1 in /Users/chaitanyabhardwaj/opt/anaconda3/lib/python3.8/site-packages (from wordcloud) (1.19.2)\n",
      "Requirement already satisfied: pillow in /Users/chaitanyabhardwaj/opt/anaconda3/lib/python3.8/site-packages (from wordcloud) (8.0.1)\n",
      "Requirement already satisfied: matplotlib in /Users/chaitanyabhardwaj/opt/anaconda3/lib/python3.8/site-packages (from wordcloud) (3.3.2)\n",
      "Requirement already satisfied: python-dateutil>=2.1 in /Users/chaitanyabhardwaj/opt/anaconda3/lib/python3.8/site-packages (from matplotlib->wordcloud) (2.8.1)\n",
      "Requirement already satisfied: certifi>=2020.06.20 in /Users/chaitanyabhardwaj/opt/anaconda3/lib/python3.8/site-packages (from matplotlib->wordcloud) (2020.6.20)\n",
      "Requirement already satisfied: kiwisolver>=1.0.1 in /Users/chaitanyabhardwaj/opt/anaconda3/lib/python3.8/site-packages (from matplotlib->wordcloud) (1.3.0)\n",
      "Requirement already satisfied: pyparsing!=2.0.4,!=2.1.2,!=2.1.6,>=2.0.3 in /Users/chaitanyabhardwaj/opt/anaconda3/lib/python3.8/site-packages (from matplotlib->wordcloud) (2.4.7)\n",
      "Requirement already satisfied: cycler>=0.10 in /Users/chaitanyabhardwaj/opt/anaconda3/lib/python3.8/site-packages (from matplotlib->wordcloud) (0.10.0)\n",
      "Requirement already satisfied: six>=1.5 in /Users/chaitanyabhardwaj/opt/anaconda3/lib/python3.8/site-packages (from python-dateutil>=2.1->matplotlib->wordcloud) (1.15.0)\n",
      "Building wheels for collected packages: wordcloud\n",
      "  Building wheel for wordcloud (setup.py) ... \u001b[?25lerror\n",
      "\u001b[31m  ERROR: Command errored out with exit status 1:\n",
      "   command: /Users/chaitanyabhardwaj/opt/anaconda3/bin/python -u -c 'import sys, setuptools, tokenize; sys.argv[0] = '\"'\"'/private/var/folders/y2/8rppfmdd51j6s_pg321h3pbm0000gn/T/pip-install-afbz8rzo/wordcloud/setup.py'\"'\"'; __file__='\"'\"'/private/var/folders/y2/8rppfmdd51j6s_pg321h3pbm0000gn/T/pip-install-afbz8rzo/wordcloud/setup.py'\"'\"';f=getattr(tokenize, '\"'\"'open'\"'\"', open)(__file__);code=f.read().replace('\"'\"'\\r\\n'\"'\"', '\"'\"'\\n'\"'\"');f.close();exec(compile(code, __file__, '\"'\"'exec'\"'\"'))' bdist_wheel -d /private/var/folders/y2/8rppfmdd51j6s_pg321h3pbm0000gn/T/pip-wheel-3kxz0uyx\n",
      "       cwd: /private/var/folders/y2/8rppfmdd51j6s_pg321h3pbm0000gn/T/pip-install-afbz8rzo/wordcloud/\n",
      "  Complete output (24 lines):\n",
      "  running bdist_wheel\n",
      "  running build\n",
      "  running build_py\n",
      "  creating build\n",
      "  creating build/lib.macosx-10.9-x86_64-3.8\n",
      "  creating build/lib.macosx-10.9-x86_64-3.8/wordcloud\n",
      "  copying wordcloud/wordcloud_cli.py -> build/lib.macosx-10.9-x86_64-3.8/wordcloud\n",
      "  copying wordcloud/_version.py -> build/lib.macosx-10.9-x86_64-3.8/wordcloud\n",
      "  copying wordcloud/__init__.py -> build/lib.macosx-10.9-x86_64-3.8/wordcloud\n",
      "  copying wordcloud/tokenization.py -> build/lib.macosx-10.9-x86_64-3.8/wordcloud\n",
      "  copying wordcloud/wordcloud.py -> build/lib.macosx-10.9-x86_64-3.8/wordcloud\n",
      "  copying wordcloud/color_from_image.py -> build/lib.macosx-10.9-x86_64-3.8/wordcloud\n",
      "  copying wordcloud/__main__.py -> build/lib.macosx-10.9-x86_64-3.8/wordcloud\n",
      "  copying wordcloud/stopwords -> build/lib.macosx-10.9-x86_64-3.8/wordcloud\n",
      "  copying wordcloud/DroidSansMono.ttf -> build/lib.macosx-10.9-x86_64-3.8/wordcloud\n",
      "  UPDATING build/lib.macosx-10.9-x86_64-3.8/wordcloud/_version.py\n",
      "  set build/lib.macosx-10.9-x86_64-3.8/wordcloud/_version.py to '1.8.1'\n",
      "  running build_ext\n",
      "  building 'wordcloud.query_integral_image' extension\n",
      "  creating build/temp.macosx-10.9-x86_64-3.8\n",
      "  creating build/temp.macosx-10.9-x86_64-3.8/wordcloud\n",
      "  gcc -Wno-unused-result -Wsign-compare -Wunreachable-code -DNDEBUG -g -fwrapv -O3 -Wall -Wstrict-prototypes -I/Users/chaitanyabhardwaj/opt/anaconda3/include -arch x86_64 -I/Users/chaitanyabhardwaj/opt/anaconda3/include -arch x86_64 -I/Users/chaitanyabhardwaj/opt/anaconda3/include/python3.8 -c wordcloud/query_integral_image.c -o build/temp.macosx-10.9-x86_64-3.8/wordcloud/query_integral_image.o\n",
      "  xcode-select: note: no developer tools were found at '/Applications/Xcode.app', requesting install. Choose an option in the dialog to download the command line developer tools.\n",
      "  error: command 'gcc' failed with exit status 1\n",
      "  ----------------------------------------\u001b[0m\n",
      "\u001b[31m  ERROR: Failed building wheel for wordcloud\u001b[0m\n",
      "\u001b[?25h  Running setup.py clean for wordcloud\n",
      "Failed to build wordcloud\n",
      "Installing collected packages: wordcloud\n",
      "    Running setup.py install for wordcloud ... \u001b[?25lerror\n",
      "\u001b[31m    ERROR: Command errored out with exit status 1:\n",
      "     command: /Users/chaitanyabhardwaj/opt/anaconda3/bin/python -u -c 'import sys, setuptools, tokenize; sys.argv[0] = '\"'\"'/private/var/folders/y2/8rppfmdd51j6s_pg321h3pbm0000gn/T/pip-install-afbz8rzo/wordcloud/setup.py'\"'\"'; __file__='\"'\"'/private/var/folders/y2/8rppfmdd51j6s_pg321h3pbm0000gn/T/pip-install-afbz8rzo/wordcloud/setup.py'\"'\"';f=getattr(tokenize, '\"'\"'open'\"'\"', open)(__file__);code=f.read().replace('\"'\"'\\r\\n'\"'\"', '\"'\"'\\n'\"'\"');f.close();exec(compile(code, __file__, '\"'\"'exec'\"'\"'))' install --record /private/var/folders/y2/8rppfmdd51j6s_pg321h3pbm0000gn/T/pip-record-hlmq082b/install-record.txt --single-version-externally-managed --compile --install-headers /Users/chaitanyabhardwaj/opt/anaconda3/include/python3.8/wordcloud\n",
      "         cwd: /private/var/folders/y2/8rppfmdd51j6s_pg321h3pbm0000gn/T/pip-install-afbz8rzo/wordcloud/\n",
      "    Complete output (24 lines):\n",
      "    running install\n",
      "    running build\n",
      "    running build_py\n",
      "    creating build\n",
      "    creating build/lib.macosx-10.9-x86_64-3.8\n",
      "    creating build/lib.macosx-10.9-x86_64-3.8/wordcloud\n",
      "    copying wordcloud/wordcloud_cli.py -> build/lib.macosx-10.9-x86_64-3.8/wordcloud\n",
      "    copying wordcloud/_version.py -> build/lib.macosx-10.9-x86_64-3.8/wordcloud\n",
      "    copying wordcloud/__init__.py -> build/lib.macosx-10.9-x86_64-3.8/wordcloud\n",
      "    copying wordcloud/tokenization.py -> build/lib.macosx-10.9-x86_64-3.8/wordcloud\n",
      "    copying wordcloud/wordcloud.py -> build/lib.macosx-10.9-x86_64-3.8/wordcloud\n",
      "    copying wordcloud/color_from_image.py -> build/lib.macosx-10.9-x86_64-3.8/wordcloud\n",
      "    copying wordcloud/__main__.py -> build/lib.macosx-10.9-x86_64-3.8/wordcloud\n",
      "    copying wordcloud/stopwords -> build/lib.macosx-10.9-x86_64-3.8/wordcloud\n",
      "    copying wordcloud/DroidSansMono.ttf -> build/lib.macosx-10.9-x86_64-3.8/wordcloud\n",
      "    UPDATING build/lib.macosx-10.9-x86_64-3.8/wordcloud/_version.py\n",
      "    set build/lib.macosx-10.9-x86_64-3.8/wordcloud/_version.py to '1.8.1'\n",
      "    running build_ext\n",
      "    building 'wordcloud.query_integral_image' extension\n",
      "    creating build/temp.macosx-10.9-x86_64-3.8\n",
      "    creating build/temp.macosx-10.9-x86_64-3.8/wordcloud\n",
      "    gcc -Wno-unused-result -Wsign-compare -Wunreachable-code -DNDEBUG -g -fwrapv -O3 -Wall -Wstrict-prototypes -I/Users/chaitanyabhardwaj/opt/anaconda3/include -arch x86_64 -I/Users/chaitanyabhardwaj/opt/anaconda3/include -arch x86_64 -I/Users/chaitanyabhardwaj/opt/anaconda3/include/python3.8 -c wordcloud/query_integral_image.c -o build/temp.macosx-10.9-x86_64-3.8/wordcloud/query_integral_image.o\n",
      "    xcode-select: note: no developer tools were found at '/Applications/Xcode.app', requesting install. Choose an option in the dialog to download the command line developer tools.\n",
      "    error: command 'gcc' failed with exit status 1\n",
      "    ----------------------------------------\u001b[0m\n",
      "\u001b[31mERROR: Command errored out with exit status 1: /Users/chaitanyabhardwaj/opt/anaconda3/bin/python -u -c 'import sys, setuptools, tokenize; sys.argv[0] = '\"'\"'/private/var/folders/y2/8rppfmdd51j6s_pg321h3pbm0000gn/T/pip-install-afbz8rzo/wordcloud/setup.py'\"'\"'; __file__='\"'\"'/private/var/folders/y2/8rppfmdd51j6s_pg321h3pbm0000gn/T/pip-install-afbz8rzo/wordcloud/setup.py'\"'\"';f=getattr(tokenize, '\"'\"'open'\"'\"', open)(__file__);code=f.read().replace('\"'\"'\\r\\n'\"'\"', '\"'\"'\\n'\"'\"');f.close();exec(compile(code, __file__, '\"'\"'exec'\"'\"'))' install --record /private/var/folders/y2/8rppfmdd51j6s_pg321h3pbm0000gn/T/pip-record-hlmq082b/install-record.txt --single-version-externally-managed --compile --install-headers /Users/chaitanyabhardwaj/opt/anaconda3/include/python3.8/wordcloud Check the logs for full command output.\u001b[0m\n"
     ]
    },
    {
     "name": "stdout",
     "output_type": "stream",
     "text": [
      "\u001b[?25h"
     ]
    },
    {
     "ename": "ModuleNotFoundError",
     "evalue": "No module named 'wordcloud'",
     "output_type": "error",
     "traceback": [
      "\u001b[0;31m---------------------------------------------------------------------------\u001b[0m",
      "\u001b[0;31mModuleNotFoundError\u001b[0m                       Traceback (most recent call last)",
      "\u001b[0;32m<ipython-input-11-b12ae228c443>\u001b[0m in \u001b[0;36m<module>\u001b[0;34m\u001b[0m\n\u001b[1;32m      1\u001b[0m \u001b[0;32mimport\u001b[0m \u001b[0mmatplotlib\u001b[0m\u001b[0;34m.\u001b[0m\u001b[0mpyplot\u001b[0m \u001b[0;32mas\u001b[0m \u001b[0mplt\u001b[0m\u001b[0;34m\u001b[0m\u001b[0;34m\u001b[0m\u001b[0m\n\u001b[1;32m      2\u001b[0m \u001b[0mget_ipython\u001b[0m\u001b[0;34m(\u001b[0m\u001b[0;34m)\u001b[0m\u001b[0;34m.\u001b[0m\u001b[0msystem\u001b[0m\u001b[0;34m(\u001b[0m\u001b[0;34m'pip install wordcloud'\u001b[0m\u001b[0;34m)\u001b[0m\u001b[0;34m\u001b[0m\u001b[0;34m\u001b[0m\u001b[0m\n\u001b[0;32m----> 3\u001b[0;31m \u001b[0;32mfrom\u001b[0m \u001b[0mwordcloud\u001b[0m \u001b[0;32mimport\u001b[0m \u001b[0mWordCloud\u001b[0m\u001b[0;34m,\u001b[0m \u001b[0mSTOPWORDS\u001b[0m\u001b[0;34m\u001b[0m\u001b[0;34m\u001b[0m\u001b[0m\n\u001b[0m\u001b[1;32m      4\u001b[0m \u001b[0;34m\u001b[0m\u001b[0m\n\u001b[1;32m      5\u001b[0m \u001b[0mget_ipython\u001b[0m\u001b[0;34m(\u001b[0m\u001b[0;34m)\u001b[0m\u001b[0;34m.\u001b[0m\u001b[0mrun_line_magic\u001b[0m\u001b[0;34m(\u001b[0m\u001b[0;34m'matplotlib'\u001b[0m\u001b[0;34m,\u001b[0m \u001b[0;34m'inline'\u001b[0m\u001b[0;34m)\u001b[0m\u001b[0;34m\u001b[0m\u001b[0;34m\u001b[0m\u001b[0m\n",
      "\u001b[0;31mModuleNotFoundError\u001b[0m: No module named 'wordcloud'"
     ]
    }
   ],
   "source": [
    "import matplotlib.pyplot as plt\n",
    "!pip install wordcloud\n",
    "from wordcloud import WordCloud, STOPWORDS\n",
    "\n",
    "%matplotlib inline"
   ]
  },
  {
   "cell_type": "code",
   "execution_count": null,
   "metadata": {},
   "outputs": [],
   "source": [
    "corpus_df=pd.DataFrame(corpus,columns=['Corpus'])\n",
    "corpus_df[:5]"
   ]
  },
  {
   "cell_type": "code",
   "execution_count": null,
   "metadata": {},
   "outputs": [],
   "source": [
    "wordcloud=WordCloud(background_color=\"black\",width=1600, height=800, random_state=0, collocations=False, stopwords=STOPWORDS).generate(' '.join(corpus_df['Corpus'].tolist()))\n",
    "\n",
    "plt.figure(figsize=(20,10), facecolor='k')\n",
    "plt.imshow(wordcloud)"
   ]
  },
  {
   "cell_type": "code",
   "execution_count": 76,
   "metadata": {},
   "outputs": [],
   "source": [
    "def plot_confusion_matrix(cm, classes, normalize=False, title='Confusion matrix', cmap=plt.cm.RdBu):\n",
    "    \n",
    "    plt.figure(figsize=(20,10))\n",
    "    plt.imshow(cm, interpolation='nearest', cmap=cmap)\n",
    "    plt.title(title)\n",
    "    plt.colorbar()\n",
    "    tick_marks = np.arange(len(classes))\n",
    "    plt.xticks(tick_marks, classes, rotation=45)\n",
    "    plt.yticks(tick_marks, classes)\n",
    "\n",
    "    if normalize:\n",
    "        cm = cm.astype('float') / cm.sum(axis=1)[:, np.newaxis]\n",
    "        print(\"Normalized confusion matrix\")\n",
    "    else:\n",
    "        print('Confusion matrix, without normalization')\n",
    "\n",
    "    thresh = cm.max() / 2.\n",
    "    for i, j in itertools.product(range(cm.shape[0]), range(cm.shape[1])):\n",
    "        plt.text(j, i, cm[i, j],\n",
    "                 horizontalalignment=\"center\",\n",
    "                 color=\"green\" if cm[i, j] > thresh else \"black\")\n",
    "\n",
    "    plt.tight_layout()\n",
    "    plt.ylabel('True label')\n",
    "    plt.xlabel('Predicted label')"
   ]
  },
  {
   "cell_type": "code",
   "execution_count": 55,
   "metadata": {},
   "outputs": [],
   "source": [
    "from tensorflow.keras.preprocessing.text import one_hot\n",
    "from tensorflow.keras.preprocessing.sequence import pad_sequences\n",
    "from tensorflow.keras.models import Sequential\n",
    "from tensorflow.keras.layers import Embedding, LSTM, Bidirectional, Dense, Dropout"
   ]
  },
  {
   "cell_type": "code",
   "execution_count": 56,
   "metadata": {},
   "outputs": [
    {
     "data": {
      "text/plain": [
       "[[],\n",
       " [2165, 3637, 4583, 418, 8304, 6389, 3123, 3577, 4288, 5929, 1945, 7859],\n",
       " [7416, 9991, 8581, 5999, 6389, 2456, 3013, 1193, 6542, 209],\n",
       " [9016, 4148, 6227, 2795, 4662, 9725],\n",
       " [4682, 4952, 523, 3637, 389],\n",
       " [9016, 4320],\n",
       " [206, 3850],\n",
       " [7184, 508, 8581, 389, 2184, 4937, 795, 795, 4190, 4952, 2650, 2681, 8449],\n",
       " [4010],\n",
       " [8148, 3709],\n",
       " [8745, 4978, 1674, 1079, 1686],\n",
       " [5142, 69, 5528],\n",
       " [4107, 4789, 3099, 2357, 8821, 666],\n",
       " [1578, 1262, 3358, 3591, 8827, 5955],\n",
       " [5428, 340, 681, 7826, 1901, 4576, 6441, 3248],\n",
       " [2203, 5067, 4789, 5917, 7599],\n",
       " [4882, 5408, 2248, 3330, 3560, 4789, 3772, 4596, 8029, 5120],\n",
       " [503, 861],\n",
       " [2123, 5153, 5362, 3474, 389, 8525, 8421, 7155],\n",
       " [938, 6335, 8639, 7492, 8831, 1696]]"
      ]
     },
     "execution_count": 56,
     "metadata": {},
     "output_type": "execute_result"
    }
   ],
   "source": [
    "vocabulary_size=10000\n",
    "onehot_representation=[one_hot(words, vocabulary_size) for words in corpus]\n",
    "onehot_representation[:20]"
   ]
  },
  {
   "cell_type": "code",
   "execution_count": 57,
   "metadata": {},
   "outputs": [
    {
     "name": "stdout",
     "output_type": "stream",
     "text": [
      "[[   0    0    0    0    0    0    0    0    0    0    0    0    0    0\n",
      "     0]\n",
      " [   0    0    0 2165 3637 4583  418 8304 6389 3123 3577 4288 5929 1945\n",
      "  7859]\n",
      " [   0    0    0    0    0 7416 9991 8581 5999 6389 2456 3013 1193 6542\n",
      "   209]\n",
      " [   0    0    0    0    0    0    0    0    0 9016 4148 6227 2795 4662\n",
      "  9725]\n",
      " [   0    0    0    0    0    0    0    0    0    0 4682 4952  523 3637\n",
      "   389]\n",
      " [   0    0    0    0    0    0    0    0    0    0    0    0    0 9016\n",
      "  4320]\n",
      " [   0    0    0    0    0    0    0    0    0    0    0    0    0  206\n",
      "  3850]\n",
      " [   0    0 7184  508 8581  389 2184 4937  795  795 4190 4952 2650 2681\n",
      "  8449]\n",
      " [   0    0    0    0    0    0    0    0    0    0    0    0    0    0\n",
      "  4010]\n",
      " [   0    0    0    0    0    0    0    0    0    0    0    0    0 8148\n",
      "  3709]\n",
      " [   0    0    0    0    0    0    0    0    0    0 8745 4978 1674 1079\n",
      "  1686]\n",
      " [   0    0    0    0    0    0    0    0    0    0    0    0 5142   69\n",
      "  5528]\n",
      " [   0    0    0    0    0    0    0    0    0 4107 4789 3099 2357 8821\n",
      "   666]\n",
      " [   0    0    0    0    0    0    0    0    0 1578 1262 3358 3591 8827\n",
      "  5955]\n",
      " [   0    0    0    0    0    0    0 5428  340  681 7826 1901 4576 6441\n",
      "  3248]\n",
      " [   0    0    0    0    0    0    0    0    0    0 2203 5067 4789 5917\n",
      "  7599]\n",
      " [   0    0    0    0    0 4882 5408 2248 3330 3560 4789 3772 4596 8029\n",
      "  5120]\n",
      " [   0    0    0    0    0    0    0    0    0    0    0    0    0  503\n",
      "   861]\n",
      " [   0    0    0    0    0    0    0 2123 5153 5362 3474  389 8525 8421\n",
      "  7155]\n",
      " [   0    0    0    0    0    0    0    0    0  938 6335 8639 7492 8831\n",
      "  1696]]\n"
     ]
    }
   ],
   "source": [
    "sentence_length=15\n",
    "embedded_documents=pad_sequences(onehot_representation, padding='pre', maxlen=sentence_length)\n",
    "print(embedded_documents[:20])"
   ]
  },
  {
   "cell_type": "code",
   "execution_count": 77,
   "metadata": {},
   "outputs": [
    {
     "name": "stdout",
     "output_type": "stream",
     "text": [
      "Model: \"sequential_3\"\n",
      "_________________________________________________________________\n",
      "Layer (type)                 Output Shape              Param #   \n",
      "=================================================================\n",
      "embedding_3 (Embedding)      (None, 15, 45)            450000    \n",
      "_________________________________________________________________\n",
      "lstm_3 (LSTM)                (None, 100)               58400     \n",
      "_________________________________________________________________\n",
      "dense_3 (Dense)              (None, 1)                 101       \n",
      "=================================================================\n",
      "Total params: 508,501\n",
      "Trainable params: 508,501\n",
      "Non-trainable params: 0\n",
      "_________________________________________________________________\n",
      "None\n"
     ]
    }
   ],
   "source": [
    "dimension=45\n",
    "model_lstm=Sequential()\n",
    "model_lstm.add(Embedding(vocabulary_size, dimension, input_length=sentence_length))\n",
    "model_lstm.add(LSTM(100))\n",
    "model_lstm.add(Dense(1, activation='sigmoid'))\n",
    "model_lstm.compile(optimizer='adam', loss='binary_crossentropy', metrics=['accuracy'])\n",
    "print(model_lstm.summary())"
   ]
  },
  {
   "cell_type": "code",
   "execution_count": 78,
   "metadata": {},
   "outputs": [],
   "source": [
    "X=np.array(embedded_documents)\n",
    "y=np.array(y)"
   ]
  },
  {
   "cell_type": "code",
   "execution_count": 79,
   "metadata": {},
   "outputs": [],
   "source": [
    "from sklearn.model_selection import train_test_split\n",
    "\n",
    "X_train, X_test, y_train, y_test=train_test_split(X, y, test_size=0.20, random_state=0)"
   ]
  },
  {
   "cell_type": "code",
   "execution_count": 80,
   "metadata": {},
   "outputs": [
    {
     "name": "stdout",
     "output_type": "stream",
     "text": [
      "Epoch 1/5\n",
      "2500/2500 [==============================] - 65s 25ms/step - loss: 0.5291 - accuracy: 0.7327 - val_loss: 0.4953 - val_accuracy: 0.7563\n",
      "Epoch 2/5\n",
      "2500/2500 [==============================] - 58s 23ms/step - loss: 0.4601 - accuracy: 0.7797 - val_loss: 0.5017 - val_accuracy: 0.7552\n",
      "Epoch 3/5\n",
      "2500/2500 [==============================] - 52s 21ms/step - loss: 0.4169 - accuracy: 0.8053 - val_loss: 0.5162 - val_accuracy: 0.7484\n",
      "Epoch 4/5\n",
      "2500/2500 [==============================] - 51s 20ms/step - loss: 0.3784 - accuracy: 0.8239 - val_loss: 0.5618 - val_accuracy: 0.7444\n",
      "Epoch 5/5\n",
      "2500/2500 [==============================] - 58s 23ms/step - loss: 0.3376 - accuracy: 0.8449 - val_loss: 0.6518 - val_accuracy: 0.7380\n"
     ]
    },
    {
     "data": {
      "text/plain": [
       "<tensorflow.python.keras.callbacks.History at 0x7fde0bff9490>"
      ]
     },
     "execution_count": 80,
     "metadata": {},
     "output_type": "execute_result"
    }
   ],
   "source": [
    "model_lstm.fit(X_train, y_train, validation_data=(X_test,y_test), epochs=5, batch_size=32)"
   ]
  },
  {
   "cell_type": "code",
   "execution_count": 81,
   "metadata": {},
   "outputs": [],
   "source": [
    "pred_lstm=model_lstm.predict(X_test)"
   ]
  },
  {
   "cell_type": "code",
   "execution_count": 82,
   "metadata": {},
   "outputs": [],
   "source": [
    "from sklearn.metrics import confusion_matrix, classification_report"
   ]
  },
  {
   "cell_type": "code",
   "execution_count": 83,
   "metadata": {},
   "outputs": [
    {
     "name": "stdout",
     "output_type": "stream",
     "text": [
      "Confusion matrix, without normalization\n"
     ]
    },
    {
     "data": {
      "image/png": "[encoded data removed]",
      "text/plain": [
       "<Figure size 1440x720 with 2 Axes>"
      ]
     },
     "metadata": {
      "needs_background": "light"
     },
     "output_type": "display_data"
    }
   ],
   "source": [
    "cm=confusion_matrix(y_test, pred_lstm.round())\n",
    "\n",
    "import itertools\n",
    "plot_confusion_matrix(cm, classes=['Negative', 'Positive'])"
   ]
  },
  {
   "cell_type": "code",
   "execution_count": 84,
   "metadata": {},
   "outputs": [
    {
     "name": "stdout",
     "output_type": "stream",
     "text": [
      "              precision    recall  f1-score   support\n",
      "\n",
      "           0       0.78      0.67      0.72     10007\n",
      "           1       0.71      0.81      0.76      9993\n",
      "\n",
      "    accuracy                           0.74     20000\n",
      "   macro avg       0.74      0.74      0.74     20000\n",
      "weighted avg       0.74      0.74      0.74     20000\n",
      "\n"
     ]
    }
   ],
   "source": [
    "print(classification_report(y_test, pred_lstm.round()))"
   ]
  },
  {
   "cell_type": "code",
   "execution_count": null,
   "metadata": {},
   "outputs": [],
   "source": []
  },
  {
   "cell_type": "code",
   "execution_count": null,
   "metadata": {},
   "outputs": [],
   "source": []
  }
 ],
 "metadata": {
  "kernelspec": {
   "display_name": "Python 3",
   "language": "python",
   "name": "python3"
  },
  "language_info": {
   "codemirror_mode": {
    "name": "ipython",
    "version": 3
   },
   "file_extension": ".py",
   "mimetype": "text/x-python",
   "name": "python",
   "nbconvert_exporter": "python",
   "pygments_lexer": "ipython3",
   "version": "3.8.5"
  }
 },
 "nbformat": 4,
 "nbformat_minor": 4
}
